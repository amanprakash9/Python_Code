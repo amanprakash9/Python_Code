{
  "nbformat": 4,
  "nbformat_minor": 0,
  "metadata": {
    "colab": {
      "provenance": [],
      "authorship_tag": "ABX9TyOL0esbw7zC2j2Vco0MrinF",
      "include_colab_link": true
    },
    "kernelspec": {
      "name": "python3",
      "display_name": "Python 3"
    },
    "language_info": {
      "name": "python"
    }
  },
  "cells": [
    {
      "cell_type": "markdown",
      "metadata": {
        "id": "view-in-github",
        "colab_type": "text"
      },
      "source": [
        "<a href=\"https://colab.research.google.com/github/amanprakash9/Python_Code/blob/master/US_Sales_Forecast.ipynb\" target=\"_parent\"><img src=\"https://colab.research.google.com/assets/colab-badge.svg\" alt=\"Open In Colab\"/></a>"
      ]
    },
    {
      "cell_type": "code",
      "execution_count": 1,
      "metadata": {
        "id": "zEVt0HVArZtS"
      },
      "outputs": [],
      "source": [
        "import pandas as pd\n",
        "import numpy as np\n",
        "import matplotlib.pyplot as plt\n",
        "\n",
        "\n",
        "import warnings\n",
        "warnings.simplefilter('ignore')\n",
        "\n",
        "%matplotlib inline"
      ]
    },
    {
      "cell_type": "code",
      "source": [
        " data =pd.read_csv(\"US_Sales.csv\")"
      ],
      "metadata": {
        "id": "aSFaP-GKrkEr"
      },
      "execution_count": 5,
      "outputs": []
    },
    {
      "cell_type": "code",
      "source": [
        "data.head()"
      ],
      "metadata": {
        "colab": {
          "base_uri": "https://localhost:8080/",
          "height": 206
        },
        "id": "oIgPO6dnsV86",
        "outputId": "24e7110e-3e1e-49ce-ed1e-8ba698233724"
      },
      "execution_count": 6,
      "outputs": [
        {
          "output_type": "execute_result",
          "data": {
            "text/plain": [
              "   USVehicleSales      date\n",
              "0           885.2  1/1/1976\n",
              "1           994.7  2/1/1976\n",
              "2          1243.6  3/1/1976\n",
              "3          1191.2  4/1/1976\n",
              "4          1203.2  5/1/1976"
            ],
            "text/html": [
              "\n",
              "  <div id=\"df-3f42e924-8542-432e-9368-cc58edaeb845\">\n",
              "    <div class=\"colab-df-container\">\n",
              "      <div>\n",
              "<style scoped>\n",
              "    .dataframe tbody tr th:only-of-type {\n",
              "        vertical-align: middle;\n",
              "    }\n",
              "\n",
              "    .dataframe tbody tr th {\n",
              "        vertical-align: top;\n",
              "    }\n",
              "\n",
              "    .dataframe thead th {\n",
              "        text-align: right;\n",
              "    }\n",
              "</style>\n",
              "<table border=\"1\" class=\"dataframe\">\n",
              "  <thead>\n",
              "    <tr style=\"text-align: right;\">\n",
              "      <th></th>\n",
              "      <th>USVehicleSales</th>\n",
              "      <th>date</th>\n",
              "    </tr>\n",
              "  </thead>\n",
              "  <tbody>\n",
              "    <tr>\n",
              "      <th>0</th>\n",
              "      <td>885.2</td>\n",
              "      <td>1/1/1976</td>\n",
              "    </tr>\n",
              "    <tr>\n",
              "      <th>1</th>\n",
              "      <td>994.7</td>\n",
              "      <td>2/1/1976</td>\n",
              "    </tr>\n",
              "    <tr>\n",
              "      <th>2</th>\n",
              "      <td>1243.6</td>\n",
              "      <td>3/1/1976</td>\n",
              "    </tr>\n",
              "    <tr>\n",
              "      <th>3</th>\n",
              "      <td>1191.2</td>\n",
              "      <td>4/1/1976</td>\n",
              "    </tr>\n",
              "    <tr>\n",
              "      <th>4</th>\n",
              "      <td>1203.2</td>\n",
              "      <td>5/1/1976</td>\n",
              "    </tr>\n",
              "  </tbody>\n",
              "</table>\n",
              "</div>\n",
              "      <button class=\"colab-df-convert\" onclick=\"convertToInteractive('df-3f42e924-8542-432e-9368-cc58edaeb845')\"\n",
              "              title=\"Convert this dataframe to an interactive table.\"\n",
              "              style=\"display:none;\">\n",
              "        \n",
              "  <svg xmlns=\"http://www.w3.org/2000/svg\" height=\"24px\"viewBox=\"0 0 24 24\"\n",
              "       width=\"24px\">\n",
              "    <path d=\"M0 0h24v24H0V0z\" fill=\"none\"/>\n",
              "    <path d=\"M18.56 5.44l.94 2.06.94-2.06 2.06-.94-2.06-.94-.94-2.06-.94 2.06-2.06.94zm-11 1L8.5 8.5l.94-2.06 2.06-.94-2.06-.94L8.5 2.5l-.94 2.06-2.06.94zm10 10l.94 2.06.94-2.06 2.06-.94-2.06-.94-.94-2.06-.94 2.06-2.06.94z\"/><path d=\"M17.41 7.96l-1.37-1.37c-.4-.4-.92-.59-1.43-.59-.52 0-1.04.2-1.43.59L10.3 9.45l-7.72 7.72c-.78.78-.78 2.05 0 2.83L4 21.41c.39.39.9.59 1.41.59.51 0 1.02-.2 1.41-.59l7.78-7.78 2.81-2.81c.8-.78.8-2.07 0-2.86zM5.41 20L4 18.59l7.72-7.72 1.47 1.35L5.41 20z\"/>\n",
              "  </svg>\n",
              "      </button>\n",
              "      \n",
              "  <style>\n",
              "    .colab-df-container {\n",
              "      display:flex;\n",
              "      flex-wrap:wrap;\n",
              "      gap: 12px;\n",
              "    }\n",
              "\n",
              "    .colab-df-convert {\n",
              "      background-color: #E8F0FE;\n",
              "      border: none;\n",
              "      border-radius: 50%;\n",
              "      cursor: pointer;\n",
              "      display: none;\n",
              "      fill: #1967D2;\n",
              "      height: 32px;\n",
              "      padding: 0 0 0 0;\n",
              "      width: 32px;\n",
              "    }\n",
              "\n",
              "    .colab-df-convert:hover {\n",
              "      background-color: #E2EBFA;\n",
              "      box-shadow: 0px 1px 2px rgba(60, 64, 67, 0.3), 0px 1px 3px 1px rgba(60, 64, 67, 0.15);\n",
              "      fill: #174EA6;\n",
              "    }\n",
              "\n",
              "    [theme=dark] .colab-df-convert {\n",
              "      background-color: #3B4455;\n",
              "      fill: #D2E3FC;\n",
              "    }\n",
              "\n",
              "    [theme=dark] .colab-df-convert:hover {\n",
              "      background-color: #434B5C;\n",
              "      box-shadow: 0px 1px 3px 1px rgba(0, 0, 0, 0.15);\n",
              "      filter: drop-shadow(0px 1px 2px rgba(0, 0, 0, 0.3));\n",
              "      fill: #FFFFFF;\n",
              "    }\n",
              "  </style>\n",
              "\n",
              "      <script>\n",
              "        const buttonEl =\n",
              "          document.querySelector('#df-3f42e924-8542-432e-9368-cc58edaeb845 button.colab-df-convert');\n",
              "        buttonEl.style.display =\n",
              "          google.colab.kernel.accessAllowed ? 'block' : 'none';\n",
              "\n",
              "        async function convertToInteractive(key) {\n",
              "          const element = document.querySelector('#df-3f42e924-8542-432e-9368-cc58edaeb845');\n",
              "          const dataTable =\n",
              "            await google.colab.kernel.invokeFunction('convertToInteractive',\n",
              "                                                     [key], {});\n",
              "          if (!dataTable) return;\n",
              "\n",
              "          const docLinkHtml = 'Like what you see? Visit the ' +\n",
              "            '<a target=\"_blank\" href=https://colab.research.google.com/notebooks/data_table.ipynb>data table notebook</a>'\n",
              "            + ' to learn more about interactive tables.';\n",
              "          element.innerHTML = '';\n",
              "          dataTable['output_type'] = 'display_data';\n",
              "          await google.colab.output.renderOutput(dataTable, element);\n",
              "          const docLink = document.createElement('div');\n",
              "          docLink.innerHTML = docLinkHtml;\n",
              "          element.appendChild(docLink);\n",
              "        }\n",
              "      </script>\n",
              "    </div>\n",
              "  </div>\n",
              "  "
            ]
          },
          "metadata": {},
          "execution_count": 6
        }
      ]
    },
    {
      "cell_type": "code",
      "source": [
        "! pip install pmdarima\n",
        "\n",
        "# Import the library\n",
        "from pmdarima import auto_arima\n",
        "  \n",
        "# Ignore harmless warnings\n",
        "import warnings\n",
        "warnings.filterwarnings(\"ignore\")\n",
        "  "
      ],
      "metadata": {
        "colab": {
          "base_uri": "https://localhost:8080/"
        },
        "id": "hW8Zq9LDuUz5",
        "outputId": "84134f59-3b3c-46f2-a755-a3ec201c8c04"
      },
      "execution_count": 9,
      "outputs": [
        {
          "output_type": "stream",
          "name": "stdout",
          "text": [
            "Looking in indexes: https://pypi.org/simple, https://us-python.pkg.dev/colab-wheels/public/simple/\n",
            "Collecting pmdarima\n",
            "  Downloading pmdarima-2.0.2-cp38-cp38-manylinux_2_17_x86_64.manylinux2014_x86_64.manylinux_2_28_x86_64.whl (1.9 MB)\n",
            "\u001b[K     |████████████████████████████████| 1.9 MB 5.9 MB/s \n",
            "\u001b[?25hRequirement already satisfied: scipy>=1.3.2 in /usr/local/lib/python3.8/dist-packages (from pmdarima) (1.7.3)\n",
            "Requirement already satisfied: urllib3 in /usr/local/lib/python3.8/dist-packages (from pmdarima) (1.24.3)\n",
            "Requirement already satisfied: setuptools!=50.0.0,>=38.6.0 in /usr/local/lib/python3.8/dist-packages (from pmdarima) (57.4.0)\n",
            "Requirement already satisfied: joblib>=0.11 in /usr/local/lib/python3.8/dist-packages (from pmdarima) (1.2.0)\n",
            "Requirement already satisfied: pandas>=0.19 in /usr/local/lib/python3.8/dist-packages (from pmdarima) (1.3.5)\n",
            "Requirement already satisfied: numpy>=1.21.2 in /usr/local/lib/python3.8/dist-packages (from pmdarima) (1.21.6)\n",
            "Collecting statsmodels>=0.13.2\n",
            "  Downloading statsmodels-0.13.5-cp38-cp38-manylinux_2_17_x86_64.manylinux2014_x86_64.whl (9.9 MB)\n",
            "\u001b[K     |████████████████████████████████| 9.9 MB 46.1 MB/s \n",
            "\u001b[?25hRequirement already satisfied: scikit-learn>=0.22 in /usr/local/lib/python3.8/dist-packages (from pmdarima) (1.0.2)\n",
            "Requirement already satisfied: Cython!=0.29.18,!=0.29.31,>=0.29 in /usr/local/lib/python3.8/dist-packages (from pmdarima) (0.29.32)\n",
            "Requirement already satisfied: python-dateutil>=2.7.3 in /usr/local/lib/python3.8/dist-packages (from pandas>=0.19->pmdarima) (2.8.2)\n",
            "Requirement already satisfied: pytz>=2017.3 in /usr/local/lib/python3.8/dist-packages (from pandas>=0.19->pmdarima) (2022.6)\n",
            "Requirement already satisfied: six>=1.5 in /usr/local/lib/python3.8/dist-packages (from python-dateutil>=2.7.3->pandas>=0.19->pmdarima) (1.15.0)\n",
            "Requirement already satisfied: threadpoolctl>=2.0.0 in /usr/local/lib/python3.8/dist-packages (from scikit-learn>=0.22->pmdarima) (3.1.0)\n",
            "Requirement already satisfied: packaging>=21.3 in /usr/local/lib/python3.8/dist-packages (from statsmodels>=0.13.2->pmdarima) (21.3)\n",
            "Requirement already satisfied: patsy>=0.5.2 in /usr/local/lib/python3.8/dist-packages (from statsmodels>=0.13.2->pmdarima) (0.5.3)\n",
            "Requirement already satisfied: pyparsing!=3.0.5,>=2.0.2 in /usr/local/lib/python3.8/dist-packages (from packaging>=21.3->statsmodels>=0.13.2->pmdarima) (3.0.9)\n",
            "Installing collected packages: statsmodels, pmdarima\n",
            "  Attempting uninstall: statsmodels\n",
            "    Found existing installation: statsmodels 0.12.2\n",
            "    Uninstalling statsmodels-0.12.2:\n",
            "      Successfully uninstalled statsmodels-0.12.2\n",
            "Successfully installed pmdarima-2.0.2 statsmodels-0.13.5\n"
          ]
        }
      ]
    },
    {
      "cell_type": "code",
      "source": [
        "\n",
        "# Fit auto_arima function to AirPassengers dataset\n",
        "stepwise_fit = auto_arima(data['USVehicleSales'], start_p = 1, start_q = 1,\n",
        "                          max_p = 3, max_q = 3, m = 12,\n",
        "                          start_P = 0, seasonal = True,\n",
        "                          d = None, D = 1, trace = True,\n",
        "                          error_action ='ignore',   # we don't want to know if an order does not work\n",
        "                          suppress_warnings = True,  # we don't want convergence warnings\n",
        "                          stepwise = True)           # set to stepwise\n",
        "  \n",
        "# To print the summary\n",
        "stepwise_fit.summary()"
      ],
      "metadata": {
        "colab": {
          "base_uri": "https://localhost:8080/",
          "height": 1000
        },
        "id": "-VaadmBNukQM",
        "outputId": "e8116ad1-976d-467a-9980-797dda0df9b3"
      },
      "execution_count": 12,
      "outputs": [
        {
          "output_type": "stream",
          "name": "stdout",
          "text": [
            "Performing stepwise search to minimize aic\n",
            " ARIMA(1,0,1)(0,1,1)[12] intercept   : AIC=6159.461, Time=3.19 sec\n",
            " ARIMA(0,0,0)(0,1,0)[12] intercept   : AIC=6567.091, Time=0.09 sec\n",
            " ARIMA(1,0,0)(1,1,0)[12] intercept   : AIC=6325.174, Time=1.38 sec\n",
            " ARIMA(0,0,1)(0,1,1)[12] intercept   : AIC=6427.786, Time=2.02 sec\n",
            " ARIMA(0,0,0)(0,1,0)[12]             : AIC=6566.836, Time=0.08 sec\n",
            " ARIMA(1,0,1)(0,1,0)[12] intercept   : AIC=6282.418, Time=0.81 sec\n",
            " ARIMA(1,0,1)(1,1,1)[12] intercept   : AIC=6133.136, Time=5.21 sec\n",
            " ARIMA(1,0,1)(1,1,0)[12] intercept   : AIC=6244.004, Time=2.91 sec\n",
            " ARIMA(1,0,1)(2,1,1)[12] intercept   : AIC=6129.015, Time=11.51 sec\n",
            " ARIMA(1,0,1)(2,1,0)[12] intercept   : AIC=6208.637, Time=8.29 sec\n",
            " ARIMA(1,0,1)(2,1,2)[12] intercept   : AIC=inf, Time=13.78 sec\n",
            " ARIMA(1,0,1)(1,1,2)[12] intercept   : AIC=6131.468, Time=7.39 sec\n",
            " ARIMA(0,0,1)(2,1,1)[12] intercept   : AIC=inf, Time=8.51 sec\n",
            " ARIMA(1,0,0)(2,1,1)[12] intercept   : AIC=6226.285, Time=6.15 sec\n",
            " ARIMA(2,0,1)(2,1,1)[12] intercept   : AIC=6129.005, Time=11.84 sec\n",
            " ARIMA(2,0,1)(1,1,1)[12] intercept   : AIC=6133.888, Time=4.49 sec\n",
            " ARIMA(2,0,1)(2,1,0)[12] intercept   : AIC=6210.334, Time=12.26 sec\n",
            " ARIMA(2,0,1)(2,1,2)[12] intercept   : AIC=inf, Time=14.30 sec\n",
            " ARIMA(2,0,1)(1,1,0)[12] intercept   : AIC=6245.378, Time=4.58 sec\n",
            " ARIMA(2,0,1)(1,1,2)[12] intercept   : AIC=6131.860, Time=11.21 sec\n",
            " ARIMA(2,0,0)(2,1,1)[12] intercept   : AIC=6181.462, Time=7.52 sec\n",
            " ARIMA(3,0,1)(2,1,1)[12] intercept   : AIC=6132.237, Time=18.60 sec\n",
            " ARIMA(2,0,2)(2,1,1)[12] intercept   : AIC=6127.904, Time=13.53 sec\n",
            " ARIMA(2,0,2)(1,1,1)[12] intercept   : AIC=6132.106, Time=7.10 sec\n",
            " ARIMA(2,0,2)(2,1,0)[12] intercept   : AIC=6201.285, Time=12.47 sec\n",
            " ARIMA(2,0,2)(2,1,2)[12] intercept   : AIC=6132.481, Time=17.16 sec\n",
            " ARIMA(2,0,2)(1,1,0)[12] intercept   : AIC=6233.453, Time=5.45 sec\n",
            " ARIMA(2,0,2)(1,1,2)[12] intercept   : AIC=6130.310, Time=19.20 sec\n",
            " ARIMA(1,0,2)(2,1,1)[12] intercept   : AIC=6128.489, Time=13.47 sec\n",
            " ARIMA(3,0,2)(2,1,1)[12] intercept   : AIC=6128.603, Time=16.90 sec\n",
            " ARIMA(2,0,3)(2,1,1)[12] intercept   : AIC=6138.211, Time=14.98 sec\n",
            " ARIMA(1,0,3)(2,1,1)[12] intercept   : AIC=6128.208, Time=14.85 sec\n",
            " ARIMA(3,0,3)(2,1,1)[12] intercept   : AIC=6141.682, Time=20.39 sec\n",
            " ARIMA(2,0,2)(2,1,1)[12]             : AIC=6126.522, Time=12.93 sec\n",
            " ARIMA(2,0,2)(1,1,1)[12]             : AIC=6130.847, Time=5.19 sec\n",
            " ARIMA(2,0,2)(2,1,0)[12]             : AIC=6199.287, Time=8.02 sec\n",
            " ARIMA(2,0,2)(2,1,2)[12]             : AIC=6126.548, Time=16.06 sec\n",
            " ARIMA(2,0,2)(1,1,0)[12]             : AIC=6231.475, Time=3.51 sec\n",
            " ARIMA(2,0,2)(1,1,2)[12]             : AIC=6128.988, Time=14.17 sec\n",
            " ARIMA(1,0,2)(2,1,1)[12]             : AIC=6127.075, Time=10.15 sec\n",
            " ARIMA(2,0,1)(2,1,1)[12]             : AIC=6127.591, Time=10.56 sec\n",
            " ARIMA(3,0,2)(2,1,1)[12]             : AIC=6126.939, Time=16.53 sec\n",
            " ARIMA(2,0,3)(2,1,1)[12]             : AIC=6126.082, Time=13.05 sec\n",
            " ARIMA(2,0,3)(1,1,1)[12]             : AIC=6133.076, Time=7.09 sec\n",
            " ARIMA(2,0,3)(2,1,0)[12]             : AIC=6199.350, Time=5.79 sec\n",
            " ARIMA(2,0,3)(2,1,2)[12]             : AIC=inf, Time=15.38 sec\n",
            " ARIMA(2,0,3)(1,1,0)[12]             : AIC=6234.901, Time=3.20 sec\n",
            " ARIMA(2,0,3)(1,1,2)[12]             : AIC=6130.655, Time=15.46 sec\n",
            " ARIMA(1,0,3)(2,1,1)[12]             : AIC=6126.828, Time=12.77 sec\n",
            " ARIMA(3,0,3)(2,1,1)[12]             : AIC=inf, Time=30.54 sec\n",
            "\n",
            "Best model:  ARIMA(2,0,3)(2,1,1)[12]          \n",
            "Total fit time: 512.138 seconds\n"
          ]
        },
        {
          "output_type": "execute_result",
          "data": {
            "text/plain": [
              "<class 'statsmodels.iolib.summary.Summary'>\n",
              "\"\"\"\n",
              "                                      SARIMAX Results                                       \n",
              "============================================================================================\n",
              "Dep. Variable:                                    y   No. Observations:                  528\n",
              "Model:             SARIMAX(2, 0, 3)x(2, 1, [1], 12)   Log Likelihood               -3054.041\n",
              "Date:                              Fri, 02 Dec 2022   AIC                           6126.082\n",
              "Time:                                      07:39:06   BIC                           6164.297\n",
              "Sample:                                           0   HQIC                          6141.058\n",
              "                                              - 528                                         \n",
              "Covariance Type:                                opg                                         \n",
              "==============================================================================\n",
              "                 coef    std err          z      P>|z|      [0.025      0.975]\n",
              "------------------------------------------------------------------------------\n",
              "ar.L1          1.8583      0.134     13.831      0.000       1.595       2.122\n",
              "ar.L2         -0.8637      0.130     -6.628      0.000      -1.119      -0.608\n",
              "ma.L1         -1.4715      0.141    -10.472      0.000      -1.747      -1.196\n",
              "ma.L2          0.4191      0.113      3.694      0.000       0.197       0.641\n",
              "ma.L3          0.1121      0.043      2.583      0.010       0.027       0.197\n",
              "ar.S.L12       0.2355      0.058      4.071      0.000       0.122       0.349\n",
              "ar.S.L24      -0.1278      0.056     -2.284      0.022      -0.238      -0.018\n",
              "ma.S.L12      -0.8220      0.047    -17.656      0.000      -0.913      -0.731\n",
              "sigma2      8039.0708    363.501     22.116      0.000    7326.622    8751.519\n",
              "===================================================================================\n",
              "Ljung-Box (L1) (Q):                   0.03   Jarque-Bera (JB):               132.03\n",
              "Prob(Q):                              0.87   Prob(JB):                         0.00\n",
              "Heteroskedasticity (H):               0.66   Skew:                             0.18\n",
              "Prob(H) (two-sided):                  0.01   Kurtosis:                         5.45\n",
              "===================================================================================\n",
              "\n",
              "Warnings:\n",
              "[1] Covariance matrix calculated using the outer product of gradients (complex-step).\n",
              "\"\"\""
            ],
            "text/html": [
              "<table class=\"simpletable\">\n",
              "<caption>SARIMAX Results</caption>\n",
              "<tr>\n",
              "  <th>Dep. Variable:</th>                   <td>y</td>                <th>  No. Observations:  </th>    <td>528</td>   \n",
              "</tr>\n",
              "<tr>\n",
              "  <th>Model:</th>           <td>SARIMAX(2, 0, 3)x(2, 1, [1], 12)</td> <th>  Log Likelihood     </th> <td>-3054.041</td>\n",
              "</tr>\n",
              "<tr>\n",
              "  <th>Date:</th>                    <td>Fri, 02 Dec 2022</td>         <th>  AIC                </th> <td>6126.082</td> \n",
              "</tr>\n",
              "<tr>\n",
              "  <th>Time:</th>                        <td>07:39:06</td>             <th>  BIC                </th> <td>6164.297</td> \n",
              "</tr>\n",
              "<tr>\n",
              "  <th>Sample:</th>                          <td>0</td>                <th>  HQIC               </th> <td>6141.058</td> \n",
              "</tr>\n",
              "<tr>\n",
              "  <th></th>                              <td> - 528</td>              <th>                     </th>     <td> </td>    \n",
              "</tr>\n",
              "<tr>\n",
              "  <th>Covariance Type:</th>                <td>opg</td>               <th>                     </th>     <td> </td>    \n",
              "</tr>\n",
              "</table>\n",
              "<table class=\"simpletable\">\n",
              "<tr>\n",
              "      <td></td>        <th>coef</th>     <th>std err</th>      <th>z</th>      <th>P>|z|</th>  <th>[0.025</th>    <th>0.975]</th>  \n",
              "</tr>\n",
              "<tr>\n",
              "  <th>ar.L1</th>    <td>    1.8583</td> <td>    0.134</td> <td>   13.831</td> <td> 0.000</td> <td>    1.595</td> <td>    2.122</td>\n",
              "</tr>\n",
              "<tr>\n",
              "  <th>ar.L2</th>    <td>   -0.8637</td> <td>    0.130</td> <td>   -6.628</td> <td> 0.000</td> <td>   -1.119</td> <td>   -0.608</td>\n",
              "</tr>\n",
              "<tr>\n",
              "  <th>ma.L1</th>    <td>   -1.4715</td> <td>    0.141</td> <td>  -10.472</td> <td> 0.000</td> <td>   -1.747</td> <td>   -1.196</td>\n",
              "</tr>\n",
              "<tr>\n",
              "  <th>ma.L2</th>    <td>    0.4191</td> <td>    0.113</td> <td>    3.694</td> <td> 0.000</td> <td>    0.197</td> <td>    0.641</td>\n",
              "</tr>\n",
              "<tr>\n",
              "  <th>ma.L3</th>    <td>    0.1121</td> <td>    0.043</td> <td>    2.583</td> <td> 0.010</td> <td>    0.027</td> <td>    0.197</td>\n",
              "</tr>\n",
              "<tr>\n",
              "  <th>ar.S.L12</th> <td>    0.2355</td> <td>    0.058</td> <td>    4.071</td> <td> 0.000</td> <td>    0.122</td> <td>    0.349</td>\n",
              "</tr>\n",
              "<tr>\n",
              "  <th>ar.S.L24</th> <td>   -0.1278</td> <td>    0.056</td> <td>   -2.284</td> <td> 0.022</td> <td>   -0.238</td> <td>   -0.018</td>\n",
              "</tr>\n",
              "<tr>\n",
              "  <th>ma.S.L12</th> <td>   -0.8220</td> <td>    0.047</td> <td>  -17.656</td> <td> 0.000</td> <td>   -0.913</td> <td>   -0.731</td>\n",
              "</tr>\n",
              "<tr>\n",
              "  <th>sigma2</th>   <td> 8039.0708</td> <td>  363.501</td> <td>   22.116</td> <td> 0.000</td> <td> 7326.622</td> <td> 8751.519</td>\n",
              "</tr>\n",
              "</table>\n",
              "<table class=\"simpletable\">\n",
              "<tr>\n",
              "  <th>Ljung-Box (L1) (Q):</th>     <td>0.03</td> <th>  Jarque-Bera (JB):  </th> <td>132.03</td>\n",
              "</tr>\n",
              "<tr>\n",
              "  <th>Prob(Q):</th>                <td>0.87</td> <th>  Prob(JB):          </th>  <td>0.00</td> \n",
              "</tr>\n",
              "<tr>\n",
              "  <th>Heteroskedasticity (H):</th> <td>0.66</td> <th>  Skew:              </th>  <td>0.18</td> \n",
              "</tr>\n",
              "<tr>\n",
              "  <th>Prob(H) (two-sided):</th>    <td>0.01</td> <th>  Kurtosis:          </th>  <td>5.45</td> \n",
              "</tr>\n",
              "</table><br/><br/>Warnings:<br/>[1] Covariance matrix calculated using the outer product of gradients (complex-step)."
            ]
          },
          "metadata": {},
          "execution_count": 12
        }
      ]
    },
    {
      "cell_type": "code",
      "source": [
        "# Split data into train / test sets\n",
        "train = data.iloc[:len(data)-12]\n",
        "test = data.iloc[len(data)-12:] # set one year(12 months) for testing\n",
        "  \n",
        "# Fit a SARIMAX(0, 1, 1)x(2, 1, 1, 12) on the training set\n",
        "from statsmodels.tsa.statespace.sarimax import SARIMAX\n",
        "  \n",
        "model = SARIMAX(train['USVehicleSales'], \n",
        "                order = (2, 0, 3), \n",
        "                seasonal_order =(2, 1, 1, 12))\n",
        "  \n",
        "result = model.fit()\n",
        "result.summary()"
      ],
      "metadata": {
        "colab": {
          "base_uri": "https://localhost:8080/",
          "height": 558
        },
        "id": "IuPZusEXw752",
        "outputId": "a63dfdd4-36fd-4bcd-b188-9a92f191bc9e"
      },
      "execution_count": 14,
      "outputs": [
        {
          "output_type": "execute_result",
          "data": {
            "text/plain": [
              "<class 'statsmodels.iolib.summary.Summary'>\n",
              "\"\"\"\n",
              "                                      SARIMAX Results                                       \n",
              "============================================================================================\n",
              "Dep. Variable:                       USVehicleSales   No. Observations:                  516\n",
              "Model:             SARIMAX(2, 0, 3)x(2, 1, [1], 12)   Log Likelihood               -2985.432\n",
              "Date:                              Fri, 02 Dec 2022   AIC                           5988.864\n",
              "Time:                                      07:41:04   BIC                           6026.867\n",
              "Sample:                                           0   HQIC                          6003.771\n",
              "                                              - 516                                         \n",
              "Covariance Type:                                opg                                         \n",
              "==============================================================================\n",
              "                 coef    std err          z      P>|z|      [0.025      0.975]\n",
              "------------------------------------------------------------------------------\n",
              "ar.L1          1.5556      0.352      4.424      0.000       0.866       2.245\n",
              "ar.L2         -0.5693      0.343     -1.662      0.097      -1.241       0.102\n",
              "ma.L1         -1.1641      0.354     -3.287      0.001      -1.858      -0.470\n",
              "ma.L2          0.2234      0.227      0.983      0.326      -0.222       0.669\n",
              "ma.L3          0.1124      0.045      2.520      0.012       0.025       0.200\n",
              "ar.S.L12       0.2824      0.054      5.261      0.000       0.177       0.388\n",
              "ar.S.L24      -0.1279      0.056     -2.290      0.022      -0.237      -0.018\n",
              "ma.S.L12      -0.8412      0.044    -19.227      0.000      -0.927      -0.755\n",
              "sigma2      7987.5496    356.602     22.399      0.000    7288.622    8686.477\n",
              "===================================================================================\n",
              "Ljung-Box (L1) (Q):                   0.00   Jarque-Bera (JB):               121.81\n",
              "Prob(Q):                              0.98   Prob(JB):                         0.00\n",
              "Heteroskedasticity (H):               0.73   Skew:                             0.13\n",
              "Prob(H) (two-sided):                  0.04   Kurtosis:                         5.39\n",
              "===================================================================================\n",
              "\n",
              "Warnings:\n",
              "[1] Covariance matrix calculated using the outer product of gradients (complex-step).\n",
              "\"\"\""
            ],
            "text/html": [
              "<table class=\"simpletable\">\n",
              "<caption>SARIMAX Results</caption>\n",
              "<tr>\n",
              "  <th>Dep. Variable:</th>            <td>USVehicleSales</td>          <th>  No. Observations:  </th>    <td>516</td>   \n",
              "</tr>\n",
              "<tr>\n",
              "  <th>Model:</th>           <td>SARIMAX(2, 0, 3)x(2, 1, [1], 12)</td> <th>  Log Likelihood     </th> <td>-2985.432</td>\n",
              "</tr>\n",
              "<tr>\n",
              "  <th>Date:</th>                    <td>Fri, 02 Dec 2022</td>         <th>  AIC                </th> <td>5988.864</td> \n",
              "</tr>\n",
              "<tr>\n",
              "  <th>Time:</th>                        <td>07:41:04</td>             <th>  BIC                </th> <td>6026.867</td> \n",
              "</tr>\n",
              "<tr>\n",
              "  <th>Sample:</th>                          <td>0</td>                <th>  HQIC               </th> <td>6003.771</td> \n",
              "</tr>\n",
              "<tr>\n",
              "  <th></th>                              <td> - 516</td>              <th>                     </th>     <td> </td>    \n",
              "</tr>\n",
              "<tr>\n",
              "  <th>Covariance Type:</th>                <td>opg</td>               <th>                     </th>     <td> </td>    \n",
              "</tr>\n",
              "</table>\n",
              "<table class=\"simpletable\">\n",
              "<tr>\n",
              "      <td></td>        <th>coef</th>     <th>std err</th>      <th>z</th>      <th>P>|z|</th>  <th>[0.025</th>    <th>0.975]</th>  \n",
              "</tr>\n",
              "<tr>\n",
              "  <th>ar.L1</th>    <td>    1.5556</td> <td>    0.352</td> <td>    4.424</td> <td> 0.000</td> <td>    0.866</td> <td>    2.245</td>\n",
              "</tr>\n",
              "<tr>\n",
              "  <th>ar.L2</th>    <td>   -0.5693</td> <td>    0.343</td> <td>   -1.662</td> <td> 0.097</td> <td>   -1.241</td> <td>    0.102</td>\n",
              "</tr>\n",
              "<tr>\n",
              "  <th>ma.L1</th>    <td>   -1.1641</td> <td>    0.354</td> <td>   -3.287</td> <td> 0.001</td> <td>   -1.858</td> <td>   -0.470</td>\n",
              "</tr>\n",
              "<tr>\n",
              "  <th>ma.L2</th>    <td>    0.2234</td> <td>    0.227</td> <td>    0.983</td> <td> 0.326</td> <td>   -0.222</td> <td>    0.669</td>\n",
              "</tr>\n",
              "<tr>\n",
              "  <th>ma.L3</th>    <td>    0.1124</td> <td>    0.045</td> <td>    2.520</td> <td> 0.012</td> <td>    0.025</td> <td>    0.200</td>\n",
              "</tr>\n",
              "<tr>\n",
              "  <th>ar.S.L12</th> <td>    0.2824</td> <td>    0.054</td> <td>    5.261</td> <td> 0.000</td> <td>    0.177</td> <td>    0.388</td>\n",
              "</tr>\n",
              "<tr>\n",
              "  <th>ar.S.L24</th> <td>   -0.1279</td> <td>    0.056</td> <td>   -2.290</td> <td> 0.022</td> <td>   -0.237</td> <td>   -0.018</td>\n",
              "</tr>\n",
              "<tr>\n",
              "  <th>ma.S.L12</th> <td>   -0.8412</td> <td>    0.044</td> <td>  -19.227</td> <td> 0.000</td> <td>   -0.927</td> <td>   -0.755</td>\n",
              "</tr>\n",
              "<tr>\n",
              "  <th>sigma2</th>   <td> 7987.5496</td> <td>  356.602</td> <td>   22.399</td> <td> 0.000</td> <td> 7288.622</td> <td> 8686.477</td>\n",
              "</tr>\n",
              "</table>\n",
              "<table class=\"simpletable\">\n",
              "<tr>\n",
              "  <th>Ljung-Box (L1) (Q):</th>     <td>0.00</td> <th>  Jarque-Bera (JB):  </th> <td>121.81</td>\n",
              "</tr>\n",
              "<tr>\n",
              "  <th>Prob(Q):</th>                <td>0.98</td> <th>  Prob(JB):          </th>  <td>0.00</td> \n",
              "</tr>\n",
              "<tr>\n",
              "  <th>Heteroskedasticity (H):</th> <td>0.73</td> <th>  Skew:              </th>  <td>0.13</td> \n",
              "</tr>\n",
              "<tr>\n",
              "  <th>Prob(H) (two-sided):</th>    <td>0.04</td> <th>  Kurtosis:          </th>  <td>5.39</td> \n",
              "</tr>\n",
              "</table><br/><br/>Warnings:<br/>[1] Covariance matrix calculated using the outer product of gradients (complex-step)."
            ]
          },
          "metadata": {},
          "execution_count": 14
        }
      ]
    },
    {
      "cell_type": "code",
      "source": [
        "start = len(train)\n",
        "end = len(train) + len(test) - 1\n",
        "  \n",
        "# Predictions for one-year against the test set\n",
        "predictions = result.predict(start, end,\n",
        "                             typ = 'levels').rename(\"Predictions\")\n",
        "  \n",
        "# plot predictions and actual values\n",
        "predictions.plot(legend = True)\n",
        "test['USVehicleSales'].plot(legend = True)"
      ],
      "metadata": {
        "colab": {
          "base_uri": "https://localhost:8080/",
          "height": 282
        },
        "id": "GEO3FjY0yF0k",
        "outputId": "03a16eea-bdca-42d4-bf81-67918860af4a"
      },
      "execution_count": 15,
      "outputs": [
        {
          "output_type": "execute_result",
          "data": {
            "text/plain": [
              "<matplotlib.axes._subplots.AxesSubplot at 0x7fdd110a57f0>"
            ]
          },
          "metadata": {},
          "execution_count": 15
        },
        {
          "output_type": "display_data",
          "data": {
            "text/plain": [
              "<Figure size 432x288 with 1 Axes>"
            ],
            "image/png": "[encoded data removed]"
          },
          "metadata": {
            "needs_background": "light"
          }
        }
      ]
    },
    {
      "cell_type": "code",
      "source": [
        "# Train the model on the full dataset\n",
        "model = model = SARIMAX(data['USVehicleSales'], \n",
        "                        order = (2, 0, 3), \n",
        "                        seasonal_order =(2, 1, 1, 12))\n",
        "result = model.fit()\n",
        "  \n",
        "# Forecast for the next 3 years\n",
        "forecast = result.predict(start = len(data), \n",
        "                          end = (len(data)-1) + 3 * 12, \n",
        "                          typ = 'levels').rename('Forecast')\n",
        "  \n",
        "# Plot the forecast values\n",
        "data['USVehicleSales'].plot(figsize = (12, 5), legend = True)\n",
        "forecast.plot(legend = True)"
      ],
      "metadata": {
        "colab": {
          "base_uri": "https://localhost:8080/",
          "height": 337
        },
        "id": "9UShzn1ayfQe",
        "outputId": "933b571f-b476-4bb9-dbfc-a80cc3747d2f"
      },
      "execution_count": 16,
      "outputs": [
        {
          "output_type": "execute_result",
          "data": {
            "text/plain": [
              "<matplotlib.axes._subplots.AxesSubplot at 0x7fdd112b6cd0>"
            ]
          },
          "metadata": {},
          "execution_count": 16
        },
        {
          "output_type": "display_data",
          "data": {
            "text/plain": [
              "<Figure size 864x360 with 1 Axes>"
            ],
            "image/png": "[encoded data removed]"
          },
          "metadata": {
            "needs_background": "light"
          }
        }
      ]
    }
  ]
}